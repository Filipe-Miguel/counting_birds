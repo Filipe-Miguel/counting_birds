{
  "metadata": {
    "kernelspec": {
      "name": "python",
      "display_name": "Python (Pyodide)",
      "language": "python"
    },
    "language_info": {
      "codemirror_mode": {
        "name": "python",
        "version": 3
      },
      "file_extension": ".py",
      "mimetype": "text/x-python",
      "name": "python",
      "nbconvert_exporter": "python",
      "pygments_lexer": "ipython3",
      "version": "3.8"
    }
  },
  "nbformat_minor": 5,
  "nbformat": 4,
  "cells": [
    {
      "id": "0149e4e9-ef97-413f-a9c5-a78dd80a067f",
      "cell_type": "markdown",
      "source": "# Contact information\n\nName",
      "metadata": {}
    },
    {
      "id": "95189018-e15d-491d-904e-7a8edf999ca5",
      "cell_type": "markdown",
      "source": "# Analyses start",
      "metadata": {}
    },
    {
      "id": "c024773b-c734-491e-bc4e-b53dc54e3d1a",
      "cell_type": "markdown",
      "source": "",
      "metadata": {}
    },
    {
      "id": "5fc957fc-1afe-4744-adb6-3b402d1f4da3",
      "cell_type": "code",
      "source": "temper",
      "metadata": {
        "trusted": true
      },
      "outputs": [],
      "execution_count": null
    },
    {
      "id": "fba60ede-e5e2-4a65-9dac-8cc3cf1f23b0",
      "cell_type": "code",
      "source": "",
      "metadata": {
        "trusted": true
      },
      "outputs": [],
      "execution_count": null
    },
    {
      "id": "d84b9478-5623-4edc-a605-69d9c4838969",
      "cell_type": "code",
      "source": "",
      "metadata": {
        "trusted": true
      },
      "outputs": [],
      "execution_count": null
    }
  ]
}