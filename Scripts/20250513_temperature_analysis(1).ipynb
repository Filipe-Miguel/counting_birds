{
  "metadata": {
    "kernelspec": {
      "name": "python",
      "display_name": "Python (Pyodide)",
      "language": "python"
    },
    "language_info": {
      "codemirror_mode": {
        "name": "python",
        "version": 3
      },
      "file_extension": ".py",
      "mimetype": "text/x-python",
      "name": "python",
      "nbconvert_exporter": "python",
      "pygments_lexer": "ipython3",
      "version": "3.8"
    }
  },
  "nbformat_minor": 5,
  "nbformat": 4,
  "cells": [
    {
      "id": "0149e4e9-ef97-413f-a9c5-a78dd80a067f",
      "cell_type": "markdown",
      "source": "# Contact information\n\nName",
      "metadata": {}
    },
    {
      "id": "95189018-e15d-491d-904e-7a8edf999ca5",
      "cell_type": "markdown",
      "source": "# Analyses start\n\nThis is how the file is organized",
      "metadata": {}
    },
    {
      "id": "5034ebc2-300f-4f3f-8220-c24ecffc9409",
      "cell_type": "code",
      "source": "temperature= 2*3",
      "metadata": {
        "trusted": true
      },
      "outputs": [],
      "execution_count": null
    },
    {
      "id": "fba60ede-e5e2-4a65-9dac-8cc3cf1f23b0",
      "cell_type": "code",
      "source": "temperature",
      "metadata": {
        "trusted": true
      },
      "outputs": [
        {
          "execution_count": 5,
          "output_type": "execute_result",
          "data": {
            "text/plain": "6"
          },
          "metadata": {}
        }
      ],
      "execution_count": 5
    },
    {
      "id": "d84b9478-5623-4edc-a605-69d9c4838969",
      "cell_type": "code",
      "source": "",
      "metadata": {
        "trusted": true
      },
      "outputs": [],
      "execution_count": null
    }
  ]
}